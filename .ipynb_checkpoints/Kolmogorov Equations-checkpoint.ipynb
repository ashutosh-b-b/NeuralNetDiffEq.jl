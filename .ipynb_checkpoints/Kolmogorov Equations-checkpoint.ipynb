{
 "cells": [
  {
   "cell_type": "code",
   "execution_count": 1,
   "metadata": {},
   "outputs": [
    {
     "name": "stderr",
     "output_type": "stream",
     "text": [
      "┌ Info: CUDAdrv.jl failed to initialize, GPU functionality unavailable (set JULIA_CUDA_SILENT or JULIA_CUDA_VERBOSE to silence or expand this message)\n",
      "└ @ CUDAdrv /Users/bb/.julia/packages/CUDAdrv/b1mvw/src/CUDAdrv.jl:67\n",
      "┌ Info: Precompiling NeuralNetDiffEq [8faf48c0-8b73-11e9-0e63-2155955bfa4d]\n",
      "└ @ Base loading.jl:1273\n",
      "WARNING: Method definition vec(Number) in module DiffEqDiffTools at /Users/bb/.julia/packages/DiffEqDiffTools/3mm8U/src/jacobians.jl:114 overwritten in module FiniteDiff at /Users/bb/.julia/packages/FiniteDiff/IPtYL/src/jacobians.jl:128.\n",
      "  ** incremental compilation may be fatally broken for this module **\n",
      "\n",
      "┌ Warning: Package NeuralNetDiffEq does not have Distributions in its dependencies:\n",
      "│ - If you have NeuralNetDiffEq checked out for development and have\n",
      "│   added Distributions as a dependency but haven't updated your primary\n",
      "│   environment's manifest file, try `Pkg.resolve()`.\n",
      "│ - Otherwise you may need to report an issue with NeuralNetDiffEq\n",
      "└ Loading Distributions into NeuralNetDiffEq from project dependency, future warnings for NeuralNetDiffEq are suppressed.\n"
     ]
    }
   ],
   "source": [
    "using Flux , Distributions , DifferentialEquations\n",
    "using Base.Iterators: repeated\n",
    "using Flux.Data.MNIST\n",
    "using NeuralNetDiffEq"
   ]
  },
  {
   "cell_type": "code",
   "execution_count": 2,
   "metadata": {},
   "outputs": [
    {
     "data": {
      "text/plain": [
       "phi (generic function with 1 method)"
      ]
     },
     "execution_count": 2,
     "metadata": {},
     "output_type": "execute_result"
    }
   ],
   "source": [
    "function phi(x)\n",
    "    return sum(x.^2, dims=1)\n",
    "end        "
   ]
  },
  {
   "cell_type": "code",
   "execution_count": 3,
   "metadata": {},
   "outputs": [
    {
     "data": {
      "text/plain": [
       "1000"
      ]
     },
     "execution_count": 3,
     "metadata": {},
     "output_type": "execute_result"
    }
   ],
   "source": [
    "d = 10\n",
    "T = 1.0\n",
    "num_samples = 1000\n"
   ]
  },
  {
   "cell_type": "code",
   "execution_count": 4,
   "metadata": {},
   "outputs": [
    {
     "data": {
      "text/plain": [
       "ADAM(0.1, (0.9, 0.95), IdDict{Any,Any}())"
      ]
     },
     "execution_count": 4,
     "metadata": {},
     "output_type": "execute_result"
    }
   ],
   "source": [
    "xspan = (0.0 , 1.0)\n",
    "tspan = (0.0,5.0)\n",
    "prob = KolmogorovPDEProblem(phi , xspan , tspan)\n",
    "\n",
    "opt = Flux.ADAM(0.1, (0.9, 0.95))\n",
    "\n"
   ]
  },
  {
   "cell_type": "code",
   "execution_count": 5,
   "metadata": {},
   "outputs": [
    {
     "data": {
      "text/plain": [
       "Chain(Dense(10, 128, tanh), Dense(128, 256, tanh), Dense(256, 256, tanh), Dense(256, 128, tanh), Dense(128, 1))"
      ]
     },
     "execution_count": 5,
     "metadata": {},
     "output_type": "execute_result"
    }
   ],
   "source": [
    "chain = Flux.Chain(Dense(10,128,tanh),Dense(128,256 ,tanh ) , Dense(256,256 ,tanh) , Dense(256,128 ,tanh) , Dense(128 , 1) )"
   ]
  },
  {
   "cell_type": "code",
   "execution_count": 27,
   "metadata": {
    "scrolled": false
   },
   "outputs": [
    {
     "data": {
      "text/plain": [
       "evalcbw (generic function with 1 method)"
      ]
     },
     "execution_count": 27,
     "metadata": {},
     "output_type": "execute_result"
    }
   ],
   "source": [
    "loss(x , y) =Flux.mse(chain(x), y)\n",
    "function evalcbw()\n",
    "    @show loss(x_sde , y)\n",
    "end"
   ]
  },
  {
   "cell_type": "code",
   "execution_count": 30,
   "metadata": {},
   "outputs": [
    {
     "ename": "LoadError",
     "evalue": "syntax: missing comma or ) in argument list",
     "output_type": "error",
     "traceback": [
      "syntax: missing comma or ) in argument list",
      ""
     ]
    }
   ],
   "source": [
    "dataset = repeated((x_sde, y), 1000)\n",
    "max_err = 10000\n",
    "opt = ADAM()\n",
    "Flux.train!(loss, Flux.params(chain),dataset, opt, cb = evalcbw)"
   ]
  },
  {
   "cell_type": "code",
   "execution_count": 36,
   "metadata": {},
   "outputs": [
    {
     "data": {
      "text/plain": [
       "Base.Iterators.Take{Base.Iterators.Repeated{Tuple{Array{Float64,2},Array{Float64,2}}}}(Base.Iterators.Repeated{Tuple{Array{Float64,2},Array{Float64,2}}}(([1.7452384960544745 0.8224755080200252 … -1.201648978488635 -0.3853798865653628; 0.13897368619641595 2.8211116814557684 … 1.627722206456363 -0.10547871487213137; … ; 1.919863005744676 -0.22548537376255784 … 0.6433964240941288 1.7012963425815713; 0.48282144736015165 2.487263691802881 … 1.6503486907597265 1.6703269417483886], [27.893370131157525 29.181951580763315 … 17.00239466407266 24.30968601681051])), 1000)"
      ]
     },
     "execution_count": 36,
     "metadata": {},
     "output_type": "execute_result"
    }
   ],
   "source": [
    "dataset = repeated((x_sde, y), 1000)\n"
   ]
  },
  {
   "cell_type": "code",
   "execution_count": 17,
   "metadata": {},
   "outputs": [
    {
     "data": {
      "text/plain": [
       "1×1000 Array{Float32,2}:\n",
       " 23.5582  23.5599  23.5533  23.5614  …  23.5473  23.5615  23.518  23.5575"
      ]
     },
     "execution_count": 17,
     "metadata": {},
     "output_type": "execute_result"
    }
   ],
   "source": [
    "chain(x_sde)"
   ]
  },
  {
   "cell_type": "code",
   "execution_count": 18,
   "metadata": {},
   "outputs": [
    {
     "data": {
      "text/plain": [
       "1×1000 Array{Float64,2}:\n",
       " 14.1758  18.3955  19.8112  36.9394  …  21.752  30.5465  44.4972  14.2022"
      ]
     },
     "execution_count": 18,
     "metadata": {},
     "output_type": "execute_result"
    }
   ],
   "source": [
    "y"
   ]
  },
  {
   "cell_type": "code",
   "execution_count": 40,
   "metadata": {},
   "outputs": [
    {
     "data": {
      "text/plain": [
       "Uniform{Float64}(a=0.0, b=1.0)"
      ]
     },
     "execution_count": 40,
     "metadata": {},
     "output_type": "execute_result"
    }
   ],
   "source": [
    "l = Uniform(0 , 1)"
   ]
  },
  {
   "cell_type": "code",
   "execution_count": 6,
   "metadata": {},
   "outputs": [
    {
     "ename": "UndefKeywordError",
     "evalue": "UndefKeywordError: keyword argument dt not assigned",
     "output_type": "error",
     "traceback": [
      "UndefKeywordError: keyword argument dt not assigned",
      "",
      "Stacktrace:",
      " [1] (::DiffEqBase.var\"#kw##solve\")(::NamedTuple{(:verbose, :abstol, :maxiters),Tuple{Bool,Float64,Int64}}, ::typeof(solve), ::KolmogorovPDEProblem{typeof(phi),Float64,Float64,Nothing}, ::NNKolmogorov{Chain{Tuple{Dense{typeof(tanh),Array{Float32,2},Array{Float32,1}},Dense{typeof(tanh),Array{Float32,2},Array{Float32,1}},Dense{typeof(tanh),Array{Float32,2},Array{Float32,1}},Dense{typeof(tanh),Array{Float32,2},Array{Float32,1}},Dense{typeof(identity),Array{Float32,2},Array{Float32,1}}}},ADAM}) at ./none:0",
      " [2] top-level scope at In[6]:1"
     ]
    }
   ],
   "source": [
    "sol = solve(prob, NeuralNetDiffEq.NNKolmogorov(chain,opt), verbose = true, dt = 0,\n",
    "            abstol=1e-10, maxiters = 10)"
   ]
  },
  {
   "cell_type": "code",
   "execution_count": 4,
   "metadata": {},
   "outputs": [
    {
     "data": {
      "text/plain": [
       "KolmogorovPDEProblem\n",
       "timespan: (0.0, 5.0)xspan: (0.0, 1.0)phi"
      ]
     },
     "execution_count": 4,
     "metadata": {},
     "output_type": "execute_result"
    }
   ],
   "source": [
    "prob\n"
   ]
  },
  {
   "cell_type": "code",
   "execution_count": null,
   "metadata": {},
   "outputs": [],
   "source": []
  }
 ],
 "metadata": {
  "kernelspec": {
   "display_name": "Julia 1.3.1",
   "language": "julia",
   "name": "julia-1.3"
  },
  "language_info": {
   "file_extension": ".jl",
   "mimetype": "application/julia",
   "name": "julia",
   "version": "1.3.1"
  }
 },
 "nbformat": 4,
 "nbformat_minor": 2
}
