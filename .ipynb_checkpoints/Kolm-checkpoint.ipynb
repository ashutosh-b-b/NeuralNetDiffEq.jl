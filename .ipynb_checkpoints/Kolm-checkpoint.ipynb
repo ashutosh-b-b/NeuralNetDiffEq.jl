{
 "cells": [
  {
   "cell_type": "code",
   "execution_count": 2,
   "metadata": {},
   "outputs": [
    {
     "ename": "UndefVarError",
     "evalue": "UndefVarError: NeuralNetDiffEqAlgorithm not defined",
     "output_type": "error",
     "traceback": [
      "UndefVarError: NeuralNetDiffEqAlgorithm not defined",
      "",
      "Stacktrace:",
      " [1] top-level scope at /Users/bb/.julia/packages/IJulia/F1GUo/src/kernel.jl:52"
     ]
    }
   ],
   "source": [
    "struct NNKolmogorov{C,O} <: NeuralNetDiffEqAlgorithm\n",
    "    chain::C\n",
    "    opt::O\n",
    "    \n",
    "end\n",
    "NNKolmogorov(chain ; opt=Flux.ADAM(0.1)) = NNKolmogorov(chain , opt)\n",
    "\n",
    "function DiffEqBase.solve(\n",
    "    prob::KolmogorovPDEProblem,\n",
    "    alg::NeuralNetDiffEqAlgorithm,\n",
    "    args...;\n",
    "    dt,\n",
    "    timeseries_errors = true,\n",
    "    save_everystep=true,\n",
    "    adaptive=false,\n",
    "    abstol = 1f-6,\n",
    "    verbose = false,\n",
    "    maxiters = 100)\n",
    "\n",
    "    DiffEqBase.isinplace(prob) && error(\"Only out-of-place methods are allowed!\")\n",
    "\n",
    "    tspan = prob.tspan\n",
    "    phi = prob.phi\n",
    "    xspan = prob.xspan\n",
    "    T = tspan[2]\n",
    "\n",
    "    #hidden layer\n",
    "    chain  = alg.chain\n",
    "    opt    = alg.opt\n",
    "    ps     = Flux.params(chain)\n",
    "    xi     = randn(Uniform(a , b))\n",
    "    x_sde = pdf.(N , xi)\n",
    "    y = phi(x_sde)\n",
    "    data   = Iterators.repeated((x , y), maxiters)\n",
    "    \n",
    "    #MSE Loss Function\n",
    "    loss(x , y) =Flux.mse(chain(x), y)\n",
    "\n",
    "    cb = function ()\n",
    "        l = loss()\n",
    "        verbose && println(\"Current loss is: $l\")\n",
    "        l < abstol && Flux.stop()\n",
    "    end\n",
    "        Flux.train!(loss, ps, data, opt; cb = cb)\n",
    "        \n",
    "        chain(x_sde)\n",
    "\n",
    "   \n",
    "end #solve\n"
   ]
  },
  {
   "cell_type": "code",
   "execution_count": null,
   "metadata": {},
   "outputs": [],
   "source": [
    "struct KolmogorovPDEProblem{Phi , X , T } <: DiffEqBase.DEProblem\n",
    "    phi::Phi\n",
    "    xspan::Tuple{X,X}\n",
    "    tspan::Tuple{T,T}\n",
    "    TerminalPDEProblem(g,f,μ,σ,X0,tspan,p=nothing) = new{typeof(g),typeof(f),\n",
    "                                                         typeof(μ),typeof(σ),\n",
    "                                                         typeof(X0),eltype(tspan),\n",
    "                                                         typeof(p)}(\n",
    "                                                         g,f,μ,σ,X0,tspan,p)\n",
    "end"
   ]
  }
 ],
 "metadata": {
  "kernelspec": {
   "display_name": "Julia 1.3.1",
   "language": "julia",
   "name": "julia-1.3"
  },
  "language_info": {
   "file_extension": ".jl",
   "mimetype": "application/julia",
   "name": "julia",
   "version": "1.3.1"
  }
 },
 "nbformat": 4,
 "nbformat_minor": 2
}
