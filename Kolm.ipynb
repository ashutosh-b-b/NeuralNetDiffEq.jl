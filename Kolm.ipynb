{
 "cells": [
  {
   "cell_type": "code",
   "execution_count": 2,
   "metadata": {},
   "outputs": [
    {
     "ename": "UndefVarError",
     "evalue": "UndefVarError: NeuralNetDiffEqAlgorithm not defined",
     "output_type": "error",
     "traceback": [
      "UndefVarError: NeuralNetDiffEqAlgorithm not defined",
      "",
      "Stacktrace:",
      " [1] top-level scope at /Users/bb/.julia/packages/IJulia/F1GUo/src/kernel.jl:52"
     ]
    }
   ],
   "source": [
    "struct NNKolmogorov{C,O} <: NeuralNetDiffEqAlgorithm\n",
    "    chain::C\n",
    "    opt::O\n",
    "    \n",
    "end\n",
    "NNKolmogorov(chain ; opt=Flux.ADAM(0.1)) = NNKolmogorov(chain , opt)\n",
    "\n",
    "function DiffEqBase.solve(\n",
    "    prob::KolmogorovPDEProblem,\n",
    "    alg::NeuralNetDiffEqAlgorithm,\n",
    "    args...;\n",
    "    dt,\n",
    "    timeseries_errors = true,\n",
    "    save_everystep=true,\n",
    "    adaptive=false,\n",
    "    abstol = 1f-6,\n",
    "    verbose = false,\n",
    "    maxiters = 100)\n",
    "\n",
    "    DiffEqBase.isinplace(prob) && error(\"Only out-of-place methods are allowed!\")\n",
    "\n",
    "    tspan = prob.tspan\n",
    "    phi = prob.phi\n",
    "    xspan = prob.xspan\n",
    "    T = tspan[2]\n",
    "\n",
    "    #hidden layer\n",
    "    chain  = alg.chain\n",
    "    opt    = alg.opt\n",
    "    ps     = Flux.params(chain)\n",
    "    xi     = randn(Uniform(a , b))\n",
    "    x_sde = pdf.(N , xi)\n",
    "    y = phi(x_sde)\n",
    "    data   = Iterators.repeated((x , y), maxiters)\n",
    "    \n",
    "    #MSE Loss Function\n",
    "    loss(x , y) =Flux.mse(chain(x), y)\n",
    "\n",
    "    cb = function ()\n",
    "        l = loss()\n",
    "        verbose && println(\"Current loss is: $l\")\n",
    "        l < abstol && Flux.stop()\n",
    "    end\n",
    "        Flux.train!(loss, ps, data, opt; cb = cb)\n",
    "        \n",
    "        chain(x_sde)\n",
    "\n",
    "   \n",
    "end #solve\n"
   ]
  },
  {
   "cell_type": "code",
   "execution_count": 9,
   "metadata": {},
   "outputs": [
    {
     "ename": "LoadError",
     "evalue": "UndefVarError: @reexport not defined",
     "output_type": "error",
     "traceback": [
      "UndefVarError: @reexport not defined",
      ""
     ]
    }
   ],
   "source": [
    "\n",
    "\n",
    "\n",
    "struct KolmogorovPDEProblem{Phi , X , T } <: DiffEqBase.DEProblem\n",
    "    phi::Phi\n",
    "    xspan::Tuple{X,X}\n",
    "    tspan::Tuple{T,T}\n",
    "    KolmogorovPDEProblem(phi , xspan , tspan) = new{typeof(phi),eltype(tspan),eltype(xspan)}(\n",
    "                                                         phi , xspan , tspan)\n",
    "end\n"
   ]
  },
  {
   "cell_type": "code",
   "execution_count": 4,
   "metadata": {},
   "outputs": [
    {
     "ename": "UndefVarError",
     "evalue": "UndefVarError: KolmogorovPDEProblem not defined",
     "output_type": "error",
     "traceback": [
      "UndefVarError: KolmogorovPDEProblem not defined",
      "",
      "Stacktrace:",
      " [1] top-level scope at In[4]:1"
     ]
    }
   ],
   "source": [
    "Base.summary(prob::KolmogorovPDEProblem) = string(nameof(typeof(prob)))\n",
    "function Base.show(io::IO, A::KolmogorovPDEProblem)\n",
    "  println(io,summary(A))\n",
    "  print(io,\"timespan: \")\n",
    "  show(io,A.tspan)\n",
    "  print(io,\"xspan: \")\n",
    "  show(io,A.xspan)\n",
    "end"
   ]
  },
  {
   "cell_type": "code",
   "execution_count": 10,
   "metadata": {},
   "outputs": [
    {
     "data": {
      "text/plain": [
       "phi (generic function with 1 method)"
      ]
     },
     "execution_count": 10,
     "metadata": {},
     "output_type": "execute_result"
    }
   ],
   "source": [
    "function phi(m , n)\n",
    "    return m + n\n",
    "end"
   ]
  },
  {
   "cell_type": "code",
   "execution_count": 13,
   "metadata": {},
   "outputs": [],
   "source": [
    "using DifferentialEquations\n",
    "dt1 = 0.1/20f0\n",
    "t1 = 0:dt1:1.0\n",
    "brownian_values = cumsum([0;[sqrt(dt1)*randn() for i in 1:length(t1)-2]])\n",
    "W = NoiseGrid(t1,brownian_values)\n",
    "print()"
   ]
  },
  {
   "cell_type": "code",
   "execution_count": 14,
   "metadata": {},
   "outputs": [
    {
     "ename": "DimensionMismatch",
     "evalue": "DimensionMismatch(\"dimensions must match\")",
     "output_type": "error",
     "traceback": [
      "DimensionMismatch(\"dimensions must match\")",
      "",
      "Stacktrace:",
      " [1] promote_shape at ./indices.jl:154 [inlined]",
      " [2] _promote_shape at ./iterators.jl:317 [inlined]",
      " [3] axes at ./iterators.jl:316 [inlined]",
      " [4] _array_for at ./array.jl:614 [inlined]",
      " [5] collect(::Base.Generator{Base.Iterators.Zip{Tuple{StepRangeLen{Float64,Base.TwicePrecision{Float64},Base.TwicePrecision{Float64}},Array{Float64,1}}},var\"#9#10\"}) at ./array.jl:627",
      " [6] top-level scope at In[14]:1"
     ]
    }
   ],
   "source": [
    "u = [phi(m , n) for (m ,n) in zip(t1 , W.u)]"
   ]
  },
  {
   "cell_type": "code",
   "execution_count": 29,
   "metadata": {},
   "outputs": [],
   "source": [
    "u = Float64[]\n",
    "for (m ,n) in zip(t1 , W.u)\n",
    "    u = vcat(u , [phi(m , n)])\n",
    "end"
   ]
  },
  {
   "cell_type": "code",
   "execution_count": 30,
   "metadata": {},
   "outputs": [
    {
     "data": {
      "text/plain": [
       "200-element Array{Float64,1}:\n",
       "  0.0                  \n",
       " -0.15964992606818035  \n",
       " -0.12136868131724722  \n",
       " -0.13897630303641761  \n",
       " -0.18109792465190871  \n",
       " -0.18721198769216751  \n",
       " -0.17415683485667535  \n",
       " -0.20757187287448323  \n",
       " -0.18679178321357734  \n",
       " -0.08208849477464895  \n",
       " -0.08610062888151902  \n",
       " -0.08213043642489859  \n",
       " -0.05284923536561381  \n",
       "  ⋮                    \n",
       " -0.1143011667385756   \n",
       " -0.12414062560090533  \n",
       " -0.29422767410378303  \n",
       " -0.43686758203114817  \n",
       " -0.35815066391279027  \n",
       " -0.27626079671617443  \n",
       " -0.19645686083237024  \n",
       " -0.14181201971548518  \n",
       " -0.012178706172993214 \n",
       " -0.061727000889968076 \n",
       "  0.039923791347428184 \n",
       "  0.0005565718599399583"
      ]
     },
     "execution_count": 30,
     "metadata": {},
     "output_type": "execute_result"
    }
   ],
   "source": [
    "u "
   ]
  },
  {
   "cell_type": "code",
   "execution_count": null,
   "metadata": {},
   "outputs": [],
   "source": []
  }
 ],
 "metadata": {
  "kernelspec": {
   "display_name": "Julia 1.3.1",
   "language": "julia",
   "name": "julia-1.3"
  },
  "language_info": {
   "file_extension": ".jl",
   "mimetype": "application/julia",
   "name": "julia",
   "version": "1.3.1"
  }
 },
 "nbformat": 4,
 "nbformat_minor": 2
}
